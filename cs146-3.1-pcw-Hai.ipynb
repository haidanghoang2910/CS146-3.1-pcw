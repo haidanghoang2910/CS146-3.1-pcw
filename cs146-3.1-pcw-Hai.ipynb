{
 "cells": [
  {
   "cell_type": "markdown",
   "metadata": {},
   "source": [
    "# Normal likelihoods and normal-inverse-gamma priors\n",
    "\n",
    "Today we explore how samples from a prior distribution can be interpreted as instances of the likelihood function. Specifically, we look at how samples from a normal-inverse-gamma (NIG) distribution can be interpreted as normal distributions.\n",
    "\n",
    "**In short:** Each sample from the NIG distribution is a pair $(x, \\sigma^2)$. These values specify the mean and variance of a normal distribution and so we can think of the sample (the pair of values) as an instance of the normal distribution (which will be our likelihood function). More below.\n",
    "\n",
    "## Normal-inverse-gamma in SciPy\n",
    "\n",
    "Even though SciPy does have classes defined for the normal distribution (`scipy.stats.norm`) and the inverse-gamma distribution (`scipy.stats.invgamma`), it does not have one defined for the normal-inverse-gamma distribution. To help you, the functions below implement the probability density function and a sampler for the normal-inverse-gamma distribution."
   ]
  },
  {
   "cell_type": "code",
   "execution_count": 1,
   "metadata": {},
   "outputs": [],
   "source": [
    "import numpy as np\n",
    "import scipy.stats as sts\n",
    "import matplotlib.pyplot as plt"
   ]
  },
  {
   "cell_type": "code",
   "execution_count": 2,
   "metadata": {},
   "outputs": [],
   "source": [
    "'''\n",
    "Function definitions for the normal-inverse-gamma distribution. The parameters\n",
    "of the distribution, namely mu (μ), either lambda (λ) or nu (ν), alpha (α),\n",
    "beta (β), are used as defined here:\n",
    "\n",
    "  https://en.wikipedia.org/wiki/Normal-inverse-gamma_distribution\n",
    "\n",
    "Note that we use the symbol nu (ν) rather than lambda (λ) for the third\n",
    "parameter. This is to match the notation used in the conjugate priors table on\n",
    "Wikipedia:\n",
    "\n",
    "  https://en.wikipedia.org/wiki/Conjugate_prior#Table_of_conjugate_distributions\n",
    "'''\n",
    "\n",
    "def norminvgamma_pdf(x, sigma2, mu, nu, alpha, beta):\n",
    "    '''\n",
    "    The probability density function of the normal-inverse-gamma distribution at\n",
    "    x (mean) and sigma2 (variance).\n",
    "    '''\n",
    "    return (\n",
    "        sts.norm.pdf(x, loc=mu, scale=np.sqrt(sigma2 / nu)) *\n",
    "        sts.invgamma.pdf(sigma2, a=alpha, scale=beta))\n",
    "\n",
    "def norminvgamma_rvs(mu, nu, alpha, beta, size=1):\n",
    "    '''\n",
    "    Generate n samples from the normal-inverse-gamma distribution. This function\n",
    "    returns a (size x 2) matrix where each row contains a sample, (x, sigma2).\n",
    "    '''\n",
    "    # Sample sigma^2 from the inverse-gamma distribution\n",
    "    sigma2 = sts.invgamma.rvs(a=alpha, scale=beta, size=size)\n",
    "    # Sample x from the normal distribution\n",
    "    x = sts.norm.rvs(loc=mu, scale=np.sqrt(sigma2 / nu), size=size)\n",
    "    return np.vstack((x, sigma2)).transpose()"
   ]
  },
  {
   "cell_type": "markdown",
   "metadata": {},
   "source": [
    "## Task 1\n",
    "\n",
    "1. Generate 10 samples from the normal-inverse-gamma (NIG) distribution with parameters as\n",
    "   provided below.\n",
    "   \n",
    "   Each sample corresponds to the mean and variance of a normal\n",
    "   distribution.\n",
    "   \n",
    "   With these NIG parameters, the prior 95% confidence interval for\n",
    "   the mean is about [-10, 10] and for the variance [0.1, 10].\n",
    "   \n",
    "   In practice you would\n",
    "   work the other way around: use confidence intervals (or other information) to determine values for the\n",
    "   prior hyperparameters.\n",
    "\n",
    "\n",
    "2. Plot the 10 normal distributions corresponding to your 10 samples. To see the functions\n",
    "   clearly, plot your graphs on the domain [-15, 15].\n",
    "   \n",
    "   You should see that the 10 samples\n",
    "   (normal distributions) are all quite different. This means the prior is quite broad\n",
    "   (uncertain) over the mean and variance."
   ]
  },
  {
   "cell_type": "code",
   "execution_count": 15,
   "metadata": {},
   "outputs": [],
   "source": [
    "# Normal-inverse-gamma prior hyperparameters\n",
    "mu_0 = 0        # The prior mean is centered around 0.\n",
    "nu_0 = 0.054    # The smaller ν₀ is, the more uncertain we are about the prior mean.\n",
    "alpha_0 = 1.12  # α₀ and β₀ control the marginal prior over the variance.\n",
    "beta_0 = 0.4\n",
    "x = np.linspace(-10, 10, 200)\n",
    "sigma2 = np.linspace(0.1, 10, 200)\n",
    "list_of_results = []\n",
    "for i in range(10):\n",
    "    list_of_results.append(norminvgamma_rvs(mu_0, nu_0, alpha_0, beta_0, size=1))"
   ]
  },
  {
   "cell_type": "code",
   "execution_count": 23,
   "metadata": {},
   "outputs": [
    {
     "data": {
      "text/plain": [
       "[array([[-0.96558989,  0.35859879]]),\n",
       " array([[-1.56124059,  1.25171127]]),\n",
       " array([[1.87184485, 0.38103077]]),\n",
       " array([[-2.0587293 ,  0.66594845]]),\n",
       " array([[-1.63075917,  0.49099828]]),\n",
       " array([[-2.16137772,  2.90155491]]),\n",
       " array([[0.07097251, 0.43266748]]),\n",
       " array([[-0.09686651,  0.19387563]]),\n",
       " array([[0.55527373, 0.15796261]]),\n",
       " array([[-1.68932259,  0.2378708 ]])]"
      ]
     },
     "execution_count": 23,
     "metadata": {},
     "output_type": "execute_result"
    }
   ],
   "source": [
    "list_of_results"
   ]
  },
  {
   "cell_type": "code",
   "execution_count": 22,
   "metadata": {},
   "outputs": [
    {
     "data": {
      "image/png": "[encoded data removed]",
      "text/plain": [
       "<Figure size 432x288 with 1 Axes>"
      ]
     },
     "metadata": {
      "needs_background": "light"
     },
     "output_type": "display_data"
    }
   ],
   "source": [
    "list_of_results\n",
    "for i in list_of_results:\n",
    "    plt.plot(x, sts.norm.pdf(x, i[0][0],i[0][1]))\n"
   ]
  },
  {
   "cell_type": "markdown",
   "metadata": {},
   "source": [
    "## Task 2\n",
    "\n",
    "Generate 1,000,000 samples from the normal-inverse-gamma prior above and calculate\n",
    "approximate 95% confidence intervals over the mean and the variance using the\n",
    "samples. You can use the `numpy.percentile` function for this.\n",
    "\n",
    "Your confidence intervals should approximately match the intervals [-10, 10] and [0.1, 10]."
   ]
  },
  {
   "cell_type": "code",
   "execution_count": 24,
   "metadata": {},
   "outputs": [],
   "source": [
    "list_samples=[]\n",
    "for i in range(1000000):\n",
    "    list_samples.append(norminvgamma_rvs(mu_0, nu_0, alpha_0, beta_0, size=1))"
   ]
  },
  {
   "cell_type": "code",
   "execution_count": 31,
   "metadata": {},
   "outputs": [],
   "source": [
    "list_of_means = []\n",
    "list_of_variance=[]\n",
    "for i in list_samples:\n",
    "    list_of_means.append(i[0][0])\n",
    "    list_of_variance.append(i[0][1])"
   ]
  },
  {
   "cell_type": "code",
   "execution_count": 43,
   "metadata": {},
   "outputs": [
    {
     "name": "stdout",
     "output_type": "stream",
     "text": [
      "Confidence interval for the mean is [-9.984506384359122, 10.021412480001011]\n"
     ]
    }
   ],
   "source": [
    "mean_025 = np.percentile(list_of_means, 2.5)\n",
    "mean_975 = np.percentile(list_of_means, 97.5)\n",
    "print(\"Confidence interval for the mean is\", [mean_025, mean_975])"
   ]
  },
  {
   "cell_type": "code",
   "execution_count": 44,
   "metadata": {},
   "outputs": [
    {
     "name": "stdout",
     "output_type": "stream",
     "text": [
      "Confidence interval for the variance is [0.10176308215905781, 10.094893454778804]\n"
     ]
    }
   ],
   "source": [
    "variance_025 = np.percentile(list_of_variance, 2.5)\n",
    "variance_975 = np.percentile(list_of_variance, 97.5)\n",
    "print(\"Confidence interval for the variance is\", [variance_025, variance_975])"
   ]
  },
  {
   "cell_type": "markdown",
   "metadata": {},
   "source": [
    "## Task 3\n",
    "Code the equations for calculating the posterior normal-inverse-gamma hyperparameters\n",
    "from the prior hyperparameters and data.\n",
    "\n",
    "The equations are found on found [Wikipedia](https://en.wikipedia.org/wiki/Conjugate_prior#Table_of_conjugate_distributions) and reproduced below, using $d_i$ for a datum.\n",
    "Note that $n$ is the number of data, and $\\overline{d}$ is the mean of the data.\n",
    "\n",
    "$$\n",
    "\\begin{align}\n",
    "  \\mu_{\\text{post}} &= \\frac{\\nu_0\\mu_0 + n\\overline{d}}{\\nu_0 + n} \\\\\n",
    "  \\nu_{\\text{post}} &= \\nu_0 + n \\\\\n",
    "  \\alpha_{\\text{post}} &= \\alpha_0 + \\frac{n}{2} \\\\\n",
    "  \\beta_{\\text{post}} &=\n",
    "     \\beta_0 +\n",
    "     \\frac{1}{2}\\sum_{i=1}^n (d_i-\\overline{d})^2 +\n",
    "     \\frac{n\\nu_0}{\\nu_0+n}\\frac{(\\overline{d}-\\mu_0)^2}{2}\n",
    "\\end{align}\n",
    "$$\n",
    "\n",
    "Once you have the update equations implemented, Bayesian inference is done!\n",
    "\n",
    " * The likelihood function is the normal distribution with unknown mean and variance.\n",
    " * The posterior distribution is of the same type as the prior – normal-inverse-gamma.\n",
    " * The posterior parameters below give you the exact posterior normal-inverse-gamma distribution.\n",
    " * No approximation or numerical integration is needed."
   ]
  },
  {
   "cell_type": "code",
   "execution_count": 49,
   "metadata": {},
   "outputs": [],
   "source": [
    "data = np.array([1, 2, 3, 4])  # In class you will get a larger data set.\n",
    "                               # This is just to get you started.\n",
    "n = len(data)\n",
    "d = np.mean(data)\n",
    "mu_post = (nu_0*mu_0 + n*d)/(nu_0+n)\n",
    "nu_post = nu_0 + n\n",
    "alpha_post = alpha_0 + n/2\n",
    "\n",
    "sum = 0\n",
    "for i in data:\n",
    "    sum += (i - d)**2\n",
    "\n",
    "beta_post = beta_0 + 0.5*sum + (n*nu_0)*(d-mu_0)**2 / (2*nu_0+2*n)"
   ]
  },
  {
   "cell_type": "code",
   "execution_count": 51,
   "metadata": {},
   "outputs": [
    {
     "name": "stdout",
     "output_type": "stream",
     "text": [
      "2.46669955599408 4.054 3.12 3.0665022200296\n"
     ]
    }
   ],
   "source": [
    "print(mu_post, nu_post, alpha_post, beta_post)\n"
   ]
  },
  {
   "cell_type": "markdown",
   "metadata": {},
   "source": [
    "## Task 4 (optional)\n",
    "\n",
    "You are told that the prior information we used above is incorrect. Actually, the prior 95%\n",
    "confidence interval on the mean should be [-15, 15] and on the variance [0.5, 2]. So, the prior\n",
    "over the mean is less certain (broader) than we had before, but the prior over the variance is\n",
    "more certain (narrower).\n",
    "\n",
    "Determine prior hyperparameters for the normal-inverse-gamma distribution that match the\n",
    "prior information above."
   ]
  },
  {
   "cell_type": "code",
   "execution_count": null,
   "metadata": {},
   "outputs": [],
   "source": []
  }
 ],
 "metadata": {
  "kernelspec": {
   "display_name": "Python 3",
   "language": "python",
   "name": "python3"
  },
  "language_info": {
   "codemirror_mode": {
    "name": "ipython",
    "version": 3
   },
   "file_extension": ".py",
   "mimetype": "text/x-python",
   "name": "python",
   "nbconvert_exporter": "python",
   "pygments_lexer": "ipython3",
   "version": "3.8.3"
  }
 },
 "nbformat": 4,
 "nbformat_minor": 2
}
